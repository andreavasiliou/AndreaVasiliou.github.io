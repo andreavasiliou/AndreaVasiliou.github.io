{
  "nbformat": 4,
  "nbformat_minor": 0,
  "metadata": {
    "colab": {
      "name": "Loops and API.ipynb",
      "provenance": [],
      "collapsed_sections": [],
      "authorship_tag": "ABX9TyNIBwiANf2Nn279inhGkbWf",
      "include_colab_link": true
    },
    "kernelspec": {
      "name": "python3",
      "display_name": "Python 3"
    },
    "language_info": {
      "name": "python"
    }
  },
  "cells": [
    {
      "cell_type": "markdown",
      "metadata": {
        "id": "view-in-github",
        "colab_type": "text"
      },
      "source": [
        "<a href=\"https://colab.research.google.com/github/andreavasiliou/AndreaVasiliou.github.io/blob/main/Loops_and_API.ipynb\" target=\"_parent\"><img src=\"https://colab.research.google.com/assets/colab-badge.svg\" alt=\"Open In Colab\"/></a>"
      ]
    },
    {
      "cell_type": "code",
      "metadata": {
        "id": "4dVuP2MGv1xe",
        "colab": {
          "base_uri": "https://localhost:8080/",
          "height": 315
        },
        "outputId": "5401f8d3-d225-445f-b251-641708309e12"
      },
      "source": [
        "## PUTTING THIS ALL TOGETHER:\n",
        "\n",
        "# // Set the base url:\n",
        "url_base = \"https://api.stlouisfed.org/fred/series/observations?series_id={}&api_key=90de817d828417ca16a39bec1e292d08&file_type=json\"\n",
        "\n",
        "# // Set the base fileName:\n",
        "file_base = \"data_FRED-{}.json\"\n",
        "\n",
        "# // Pick the series that I want:\n",
        "fredSeries = ['SPPOPGROWARG', 'SPPOPGROWIND','SPPOPGROWBRA','SPPOPGROWCHN']\n",
        "\n",
        "# // Begin a loop, dealing with each series, one by one:\n",
        "for i in fredSeries:  \n",
        "\n",
        "   # // Print the iteration of the loop we are on:\n",
        "   # // This is not necessary but can be helpful. \n",
        "   print(i) \n",
        "  \n",
        "   # // Build the URL for this iteration of the loop, and check what we are getting:\n",
        "   URL = url_base.format(i)\n",
        "   print(URL)\n",
        "   \n",
        "   # // Request the html from the URL:\n",
        "   data = requests.get(URL).json()\n",
        "   print(data)\n",
        "\n",
        "   # // Set the filename, and check what we are getting:\n",
        "   fileName = file_base.format(i)\n",
        "   print(fileName)\n",
        "\n",
        "   # /// Save the file:\n",
        "   with open(fileName, 'w', encoding='utf-8') as f:\n",
        "     json.dump(data, f, ensure_ascii=False, indent=4)\n",
        "\n",
        "   # /// Download the file to local machine:\n",
        "   files.download(fileName)"
      ],
      "execution_count": 7,
      "outputs": [
        {
          "output_type": "stream",
          "name": "stdout",
          "text": [
            "SPPOPGROWARG\n",
            "https://api.stlouisfed.org/fred/series/observations?series_id=SPPOPGROWARG&api_key=90de817d828417ca16a39bec1e292d08&file_type=json\n",
            "{'realtime_start': '2022-01-07', 'realtime_end': '2022-01-07', 'observation_start': '1600-01-01', 'observation_end': '9999-12-31', 'units': 'lin', 'output_type': 1, 'file_type': 'json', 'order_by': 'observation_date', 'sort_order': 'asc', 'count': 70, 'offset': 0, 'limit': 100000, 'observations': [{'realtime_start': '2022-01-07', 'realtime_end': '2022-01-07', 'date': '1951-01-01', 'value': '.'}, {'realtime_start': '2022-01-07', 'realtime_end': '2022-01-07', 'date': '1952-01-01', 'value': '.'}, {'realtime_start': '2022-01-07', 'realtime_end': '2022-01-07', 'date': '1953-01-01', 'value': '.'}, {'realtime_start': '2022-01-07', 'realtime_end': '2022-01-07', 'date': '1954-01-01', 'value': '.'}, {'realtime_start': '2022-01-07', 'realtime_end': '2022-01-07', 'date': '1955-01-01', 'value': '.'}, {'realtime_start': '2022-01-07', 'realtime_end': '2022-01-07', 'date': '1956-01-01', 'value': '.'}, {'realtime_start': '2022-01-07', 'realtime_end': '2022-01-07', 'date': '1957-01-01', 'value': '.'}, {'realtime_start': '2022-01-07', 'realtime_end': '2022-01-07', 'date': '1958-01-01', 'value': '.'}, {'realtime_start': '2022-01-07', 'realtime_end': '2022-01-07', 'date': '1959-01-01', 'value': '.'}, {'realtime_start': '2022-01-07', 'realtime_end': '2022-01-07', 'date': '1960-01-01', 'value': '.'}, {'realtime_start': '2022-01-07', 'realtime_end': '2022-01-07', 'date': '1961-01-01', 'value': '1.62471713891428'}, {'realtime_start': '2022-01-07', 'realtime_end': '2022-01-07', 'date': '1962-01-01', 'value': '1.60007942669871'}, {'realtime_start': '2022-01-07', 'realtime_end': '2022-01-07', 'date': '1963-01-01', 'value': '1.57535423790892'}, {'realtime_start': '2022-01-07', 'realtime_end': '2022-01-07', 'date': '1964-01-01', 'value': '1.54925797693851'}, {'realtime_start': '2022-01-07', 'realtime_end': '2022-01-07', 'date': '1965-01-01', 'value': '1.52429496826073'}, {'realtime_start': '2022-01-07', 'realtime_end': '2022-01-07', 'date': '1966-01-01', 'value': '1.49771883580732'}, {'realtime_start': '2022-01-07', 'realtime_end': '2022-01-07', 'date': '1967-01-01', 'value': '1.4776065522093'}, {'realtime_start': '2022-01-07', 'realtime_end': '2022-01-07', 'date': '1968-01-01', 'value': '1.47575331677022'}, {'realtime_start': '2022-01-07', 'realtime_end': '2022-01-07', 'date': '1969-01-01', 'value': '1.49660459689642'}, {'realtime_start': '2022-01-07', 'realtime_end': '2022-01-07', 'date': '1970-01-01', 'value': '1.53152765510278'}, {'realtime_start': '2022-01-07', 'realtime_end': '2022-01-07', 'date': '1971-01-01', 'value': '1.57460250481338'}, {'realtime_start': '2022-01-07', 'realtime_end': '2022-01-07', 'date': '1972-01-01', 'value': '1.60946423674371'}, {'realtime_start': '2022-01-07', 'realtime_end': '2022-01-07', 'date': '1973-01-01', 'value': '1.62267034123002'}, {'realtime_start': '2022-01-07', 'realtime_end': '2022-01-07', 'date': '1974-01-01', 'value': '1.60668460387168'}, {'realtime_start': '2022-01-07', 'realtime_end': '2022-01-07', 'date': '1975-01-01', 'value': '1.57215430748791'}, {'realtime_start': '2022-01-07', 'realtime_end': '2022-01-07', 'date': '1976-01-01', 'value': '1.53044426140499'}, {'realtime_start': '2022-01-07', 'realtime_end': '2022-01-07', 'date': '1977-01-01', 'value': '1.49916050863813'}, {'realtime_start': '2022-01-07', 'realtime_end': '2022-01-07', 'date': '1978-01-01', 'value': '1.48783780913576'}, {'realtime_start': '2022-01-07', 'realtime_end': '2022-01-07', 'date': '1979-01-01', 'value': '1.50374852161979'}, {'realtime_start': '2022-01-07', 'realtime_end': '2022-01-07', 'date': '1980-01-01', 'value': '1.53698027406277'}, {'realtime_start': '2022-01-07', 'realtime_end': '2022-01-07', 'date': '1981-01-01', 'value': '1.5719418140512'}, {'realtime_start': '2022-01-07', 'realtime_end': '2022-01-07', 'date': '1982-01-01', 'value': '1.59643349568329'}, {'realtime_start': '2022-01-07', 'realtime_end': '2022-01-07', 'date': '1983-01-01', 'value': '1.61052873578814'}, {'realtime_start': '2022-01-07', 'realtime_end': '2022-01-07', 'date': '1984-01-01', 'value': '1.61039031434213'}, {'realtime_start': '2022-01-07', 'realtime_end': '2022-01-07', 'date': '1985-01-01', 'value': '1.59856607352161'}, {'realtime_start': '2022-01-07', 'realtime_end': '2022-01-07', 'date': '1986-01-01', 'value': '1.584792373551'}, {'realtime_start': '2022-01-07', 'realtime_end': '2022-01-07', 'date': '1987-01-01', 'value': '1.56894144187589'}, {'realtime_start': '2022-01-07', 'realtime_end': '2022-01-07', 'date': '1988-01-01', 'value': '1.54180357385285'}, {'realtime_start': '2022-01-07', 'realtime_end': '2022-01-07', 'date': '1989-01-01', 'value': '1.50181436290741'}, {'realtime_start': '2022-01-07', 'realtime_end': '2022-01-07', 'date': '1990-01-01', 'value': '1.45296474870991'}, {'realtime_start': '2022-01-07', 'realtime_end': '2022-01-07', 'date': '1991-01-01', 'value': '1.40145510449441'}, {'realtime_start': '2022-01-07', 'realtime_end': '2022-01-07', 'date': '1992-01-01', 'value': '1.35215795127188'}, {'realtime_start': '2022-01-07', 'realtime_end': '2022-01-07', 'date': '1993-01-01', 'value': '1.30605343285023'}, {'realtime_start': '2022-01-07', 'realtime_end': '2022-01-07', 'date': '1994-01-01', 'value': '1.26533343238916'}, {'realtime_start': '2022-01-07', 'realtime_end': '2022-01-07', 'date': '1995-01-01', 'value': '1.22923360808769'}, {'realtime_start': '2022-01-07', 'realtime_end': '2022-01-07', 'date': '1996-01-01', 'value': '1.19362308026821'}, {'realtime_start': '2022-01-07', 'realtime_end': '2022-01-07', 'date': '1997-01-01', 'value': '1.15950491868107'}, {'realtime_start': '2022-01-07', 'realtime_end': '2022-01-07', 'date': '1998-01-01', 'value': '1.1322150155202'}, {'realtime_start': '2022-01-07', 'realtime_end': '2022-01-07', 'date': '1999-01-01', 'value': '1.11338052309698'}, {'realtime_start': '2022-01-07', 'realtime_end': '2022-01-07', 'date': '2000-01-01', 'value': '1.10060813455916'}, {'realtime_start': '2022-01-07', 'realtime_end': '2022-01-07', 'date': '2001-01-01', 'value': '1.09203361158056'}, {'realtime_start': '2022-01-07', 'realtime_end': '2022-01-07', 'date': '2002-01-01', 'value': '1.08355691032176'}, {'realtime_start': '2022-01-07', 'realtime_end': '2022-01-07', 'date': '2003-01-01', 'value': '1.07200471174976'}, {'realtime_start': '2022-01-07', 'realtime_end': '2022-01-07', 'date': '2004-01-01', 'value': '1.05538943935448'}, {'realtime_start': '2022-01-07', 'realtime_end': '2022-01-07', 'date': '2005-01-01', 'value': '1.03626836534216'}, {'realtime_start': '2022-01-07', 'realtime_end': '2022-01-07', 'date': '2006-01-01', 'value': '1.01545457815013'}, {'realtime_start': '2022-01-07', 'realtime_end': '2022-01-07', 'date': '2007-01-01', 'value': '0.998884153148277'}, {'realtime_start': '2022-01-07', 'realtime_end': '2022-01-07', 'date': '2008-01-01', 'value': '0.992570475708135'}, {'realtime_start': '2022-01-07', 'realtime_end': '2022-01-07', 'date': '2009-01-01', 'value': '0.999542288700286'}, {'realtime_start': '2022-01-07', 'realtime_end': '2022-01-07', 'date': '2010-01-01', 'value': '0.752217992640236'}, {'realtime_start': '2022-01-07', 'realtime_end': '2022-01-07', 'date': '2011-01-01', 'value': '1.15305928006386'}, {'realtime_start': '2022-01-07', 'realtime_end': '2022-01-07', 'date': '2012-01-01', 'value': '1.13690569378967'}, {'realtime_start': '2022-01-07', 'realtime_end': '2022-01-07', 'date': '2013-01-01', 'value': '1.11910919999772'}, {'realtime_start': '2022-01-07', 'realtime_end': '2022-01-07', 'date': '2014-01-01', 'value': '1.09946109101836'}, {'realtime_start': '2022-01-07', 'realtime_end': '2022-01-07', 'date': '2015-01-01', 'value': '1.07800134449604'}, {'realtime_start': '2022-01-07', 'realtime_end': '2022-01-07', 'date': '2016-01-01', 'value': '1.05718157762752'}, {'realtime_start': '2022-01-07', 'realtime_end': '2022-01-07', 'date': '2017-01-01', 'value': '1.03713389686514'}, {'realtime_start': '2022-01-07', 'realtime_end': '2022-01-07', 'date': '2018-01-01', 'value': '1.01580834908002'}, {'realtime_start': '2022-01-07', 'realtime_end': '2022-01-07', 'date': '2019-01-01', 'value': '0.993397493293046'}, {'realtime_start': '2022-01-07', 'realtime_end': '2022-01-07', 'date': '2020-01-01', 'value': '0.970053991438048'}]}\n",
            "data_FRED-SPPOPGROWARG.json\n"
          ]
        },
        {
          "output_type": "display_data",
          "data": {
            "application/javascript": [
              "\n",
              "    async function download(id, filename, size) {\n",
              "      if (!google.colab.kernel.accessAllowed) {\n",
              "        return;\n",
              "      }\n",
              "      const div = document.createElement('div');\n",
              "      const label = document.createElement('label');\n",
              "      label.textContent = `Downloading \"${filename}\": `;\n",
              "      div.appendChild(label);\n",
              "      const progress = document.createElement('progress');\n",
              "      progress.max = size;\n",
              "      div.appendChild(progress);\n",
              "      document.body.appendChild(div);\n",
              "\n",
              "      const buffers = [];\n",
              "      let downloaded = 0;\n",
              "\n",
              "      const channel = await google.colab.kernel.comms.open(id);\n",
              "      // Send a message to notify the kernel that we're ready.\n",
              "      channel.send({})\n",
              "\n",
              "      for await (const message of channel.messages) {\n",
              "        // Send a message to notify the kernel that we're ready.\n",
              "        channel.send({})\n",
              "        if (message.buffers) {\n",
              "          for (const buffer of message.buffers) {\n",
              "            buffers.push(buffer);\n",
              "            downloaded += buffer.byteLength;\n",
              "            progress.value = downloaded;\n",
              "          }\n",
              "        }\n",
              "      }\n",
              "      const blob = new Blob(buffers, {type: 'application/binary'});\n",
              "      const a = document.createElement('a');\n",
              "      a.href = window.URL.createObjectURL(blob);\n",
              "      a.download = filename;\n",
              "      div.appendChild(a);\n",
              "      a.click();\n",
              "      div.remove();\n",
              "    }\n",
              "  "
            ],
            "text/plain": [
              "<IPython.core.display.Javascript object>"
            ]
          },
          "metadata": {}
        },
        {
          "output_type": "display_data",
          "data": {
            "application/javascript": [
              "download(\"download_4b5d72c1-0475-4083-99c9-1adb2ff1620d\", \"data_FRED-SPPOPGROWARG.json\", 12880)"
            ],
            "text/plain": [
              "<IPython.core.display.Javascript object>"
            ]
          },
          "metadata": {}
        },
        {
          "output_type": "stream",
          "name": "stdout",
          "text": [
            "SPPOPGROWIND\n",
            "https://api.stlouisfed.org/fred/series/observations?series_id=SPPOPGROWIND&api_key=90de817d828417ca16a39bec1e292d08&file_type=json\n",
            "{'realtime_start': '2022-01-07', 'realtime_end': '2022-01-07', 'observation_start': '1600-01-01', 'observation_end': '9999-12-31', 'units': 'lin', 'output_type': 1, 'file_type': 'json', 'order_by': 'observation_date', 'sort_order': 'asc', 'count': 70, 'offset': 0, 'limit': 100000, 'observations': [{'realtime_start': '2022-01-07', 'realtime_end': '2022-01-07', 'date': '1951-01-01', 'value': '.'}, {'realtime_start': '2022-01-07', 'realtime_end': '2022-01-07', 'date': '1952-01-01', 'value': '.'}, {'realtime_start': '2022-01-07', 'realtime_end': '2022-01-07', 'date': '1953-01-01', 'value': '.'}, {'realtime_start': '2022-01-07', 'realtime_end': '2022-01-07', 'date': '1954-01-01', 'value': '.'}, {'realtime_start': '2022-01-07', 'realtime_end': '2022-01-07', 'date': '1955-01-01', 'value': '.'}, {'realtime_start': '2022-01-07', 'realtime_end': '2022-01-07', 'date': '1956-01-01', 'value': '.'}, {'realtime_start': '2022-01-07', 'realtime_end': '2022-01-07', 'date': '1957-01-01', 'value': '.'}, {'realtime_start': '2022-01-07', 'realtime_end': '2022-01-07', 'date': '1958-01-01', 'value': '.'}, {'realtime_start': '2022-01-07', 'realtime_end': '2022-01-07', 'date': '1959-01-01', 'value': '.'}, {'realtime_start': '2022-01-07', 'realtime_end': '2022-01-07', 'date': '1960-01-01', 'value': '.'}, {'realtime_start': '2022-01-07', 'realtime_end': '2022-01-07', 'date': '1961-01-01', 'value': '1.99843884537632'}, {'realtime_start': '2022-01-07', 'realtime_end': '2022-01-07', 'date': '1962-01-01', 'value': '2.03190544954417'}, {'realtime_start': '2022-01-07', 'realtime_end': '2022-01-07', 'date': '1963-01-01', 'value': '2.05691021748545'}, {'realtime_start': '2022-01-07', 'realtime_end': '2022-01-07', 'date': '1964-01-01', 'value': '2.07154436184734'}, {'realtime_start': '2022-01-07', 'realtime_end': '2022-01-07', 'date': '1965-01-01', 'value': '2.08013284648118'}, {'realtime_start': '2022-01-07', 'realtime_end': '2022-01-07', 'date': '1966-01-01', 'value': '2.08347176787135'}, {'realtime_start': '2022-01-07', 'realtime_end': '2022-01-07', 'date': '1967-01-01', 'value': '2.09109222059966'}, {'realtime_start': '2022-01-07', 'realtime_end': '2022-01-07', 'date': '1968-01-01', 'value': '2.11303702650616'}, {'realtime_start': '2022-01-07', 'realtime_end': '2022-01-07', 'date': '1969-01-01', 'value': '2.1535391601658'}, {'realtime_start': '2022-01-07', 'realtime_end': '2022-01-07', 'date': '1970-01-01', 'value': '2.20454145954039'}, {'realtime_start': '2022-01-07', 'realtime_end': '2022-01-07', 'date': '1971-01-01', 'value': '2.2579002465274'}, {'realtime_start': '2022-01-07', 'realtime_end': '2022-01-07', 'date': '1972-01-01', 'value': '2.30118919711835'}, {'realtime_start': '2022-01-07', 'realtime_end': '2022-01-07', 'date': '1973-01-01', 'value': '2.32740785532689'}, {'realtime_start': '2022-01-07', 'realtime_end': '2022-01-07', 'date': '1974-01-01', 'value': '2.331906416989'}, {'realtime_start': '2022-01-07', 'realtime_end': '2022-01-07', 'date': '1975-01-01', 'value': '2.32176046659916'}, {'realtime_start': '2022-01-07', 'realtime_end': '2022-01-07', 'date': '1976-01-01', 'value': '2.30466374302148'}, {'realtime_start': '2022-01-07', 'realtime_end': '2022-01-07', 'date': '1977-01-01', 'value': '2.29129960804159'}, {'realtime_start': '2022-01-07', 'realtime_end': '2022-01-07', 'date': '1978-01-01', 'value': '2.28678059222202'}, {'realtime_start': '2022-01-07', 'realtime_end': '2022-01-07', 'date': '1979-01-01', 'value': '2.29489352994069'}, {'realtime_start': '2022-01-07', 'realtime_end': '2022-01-07', 'date': '1980-01-01', 'value': '2.30952194342461'}, {'realtime_start': '2022-01-07', 'realtime_end': '2022-01-07', 'date': '1981-01-01', 'value': '2.32375872660672'}, {'realtime_start': '2022-01-07', 'realtime_end': '2022-01-07', 'date': '1982-01-01', 'value': '2.32867883881868'}, {'realtime_start': '2022-01-07', 'realtime_end': '2022-01-07', 'date': '1983-01-01', 'value': '2.32038836842355'}, {'realtime_start': '2022-01-07', 'realtime_end': '2022-01-07', 'date': '1984-01-01', 'value': '2.29580550167873'}, {'realtime_start': '2022-01-07', 'realtime_end': '2022-01-07', 'date': '1985-01-01', 'value': '2.2598531720675'}, {'realtime_start': '2022-01-07', 'realtime_end': '2022-01-07', 'date': '1986-01-01', 'value': '2.22096331107836'}, {'realtime_start': '2022-01-07', 'realtime_end': '2022-01-07', 'date': '1987-01-01', 'value': '2.18388290218926'}, {'realtime_start': '2022-01-07', 'realtime_end': '2022-01-07', 'date': '1988-01-01', 'value': '2.14675979930959'}, {'realtime_start': '2022-01-07', 'realtime_end': '2022-01-07', 'date': '1989-01-01', 'value': '2.11086510393004'}, {'realtime_start': '2022-01-07', 'realtime_end': '2022-01-07', 'date': '1990-01-01', 'value': '2.07608920383876'}, {'realtime_start': '2022-01-07', 'realtime_end': '2022-01-07', 'date': '1991-01-01', 'value': '2.03972873553563'}, {'realtime_start': '2022-01-07', 'realtime_end': '2022-01-07', 'date': '1992-01-01', 'value': '2.0031786237708'}, {'realtime_start': '2022-01-07', 'realtime_end': '2022-01-07', 'date': '1993-01-01', 'value': '1.97063498652535'}, {'realtime_start': '2022-01-07', 'realtime_end': '2022-01-07', 'date': '1994-01-01', 'value': '1.94324392219027'}, {'realtime_start': '2022-01-07', 'realtime_end': '2022-01-07', 'date': '1995-01-01', 'value': '1.91894065925812'}, {'realtime_start': '2022-01-07', 'realtime_end': '2022-01-07', 'date': '1996-01-01', 'value': '1.89521957676734'}, {'realtime_start': '2022-01-07', 'realtime_end': '2022-01-07', 'date': '1997-01-01', 'value': '1.8691720025447'}, {'realtime_start': '2022-01-07', 'realtime_end': '2022-01-07', 'date': '1998-01-01', 'value': '1.83965876360636'}, {'realtime_start': '2022-01-07', 'realtime_end': '2022-01-07', 'date': '1999-01-01', 'value': '1.80555973688001'}, {'realtime_start': '2022-01-07', 'realtime_end': '2022-01-07', 'date': '2000-01-01', 'value': '1.76812551036934'}, {'realtime_start': '2022-01-07', 'realtime_end': '2022-01-07', 'date': '2001-01-01', 'value': '1.72876856952673'}, {'realtime_start': '2022-01-07', 'realtime_end': '2022-01-07', 'date': '2002-01-01', 'value': '1.68956166096073'}, {'realtime_start': '2022-01-07', 'realtime_end': '2022-01-07', 'date': '2003-01-01', 'value': '1.65149126857663'}, {'realtime_start': '2022-01-07', 'realtime_end': '2022-01-07', 'date': '2004-01-01', 'value': '1.61530829494259'}, {'realtime_start': '2022-01-07', 'realtime_end': '2022-01-07', 'date': '2005-01-01', 'value': '1.57970914338086'}, {'realtime_start': '2022-01-07', 'realtime_end': '2022-01-07', 'date': '2006-01-01', 'value': '1.5456964390645'}, {'realtime_start': '2022-01-07', 'realtime_end': '2022-01-07', 'date': '2007-01-01', 'value': '1.50922198555755'}, {'realtime_start': '2022-01-07', 'realtime_end': '2022-01-07', 'date': '2008-01-01', 'value': '1.46488991482359'}, {'realtime_start': '2022-01-07', 'realtime_end': '2022-01-07', 'date': '2009-01-01', 'value': '1.41058271379931'}, {'realtime_start': '2022-01-07', 'realtime_end': '2022-01-07', 'date': '2010-01-01', 'value': '1.35033831370532'}, {'realtime_start': '2022-01-07', 'realtime_end': '2022-01-07', 'date': '2011-01-01', 'value': '1.28851296178524'}, {'realtime_start': '2022-01-07', 'realtime_end': '2022-01-07', 'date': '2012-01-01', 'value': '1.23148489388617'}, {'realtime_start': '2022-01-07', 'realtime_end': '2022-01-07', 'date': '2013-01-01', 'value': '1.18290421490412'}, {'realtime_start': '2022-01-07', 'realtime_end': '2022-01-07', 'date': '2014-01-01', 'value': '1.14567340150608'}, {'realtime_start': '2022-01-07', 'realtime_end': '2022-01-07', 'date': '2015-01-01', 'value': '1.11689591278599'}, {'realtime_start': '2022-01-07', 'realtime_end': '2022-01-07', 'date': '2016-01-01', 'value': '1.09045932094686'}, {'realtime_start': '2022-01-07', 'realtime_end': '2022-01-07', 'date': '2017-01-01', 'value': '1.06335942989132'}, {'realtime_start': '2022-01-07', 'realtime_end': '2022-01-07', 'date': '2018-01-01', 'value': '1.03782784787162'}, {'realtime_start': '2022-01-07', 'realtime_end': '2022-01-07', 'date': '2019-01-01', 'value': '1.01326124930492'}, {'realtime_start': '2022-01-07', 'realtime_end': '2022-01-07', 'date': '2020-01-01', 'value': '0.989413800188014'}]}\n",
            "data_FRED-SPPOPGROWIND.json\n"
          ]
        },
        {
          "output_type": "display_data",
          "data": {
            "application/javascript": [
              "\n",
              "    async function download(id, filename, size) {\n",
              "      if (!google.colab.kernel.accessAllowed) {\n",
              "        return;\n",
              "      }\n",
              "      const div = document.createElement('div');\n",
              "      const label = document.createElement('label');\n",
              "      label.textContent = `Downloading \"${filename}\": `;\n",
              "      div.appendChild(label);\n",
              "      const progress = document.createElement('progress');\n",
              "      progress.max = size;\n",
              "      div.appendChild(progress);\n",
              "      document.body.appendChild(div);\n",
              "\n",
              "      const buffers = [];\n",
              "      let downloaded = 0;\n",
              "\n",
              "      const channel = await google.colab.kernel.comms.open(id);\n",
              "      // Send a message to notify the kernel that we're ready.\n",
              "      channel.send({})\n",
              "\n",
              "      for await (const message of channel.messages) {\n",
              "        // Send a message to notify the kernel that we're ready.\n",
              "        channel.send({})\n",
              "        if (message.buffers) {\n",
              "          for (const buffer of message.buffers) {\n",
              "            buffers.push(buffer);\n",
              "            downloaded += buffer.byteLength;\n",
              "            progress.value = downloaded;\n",
              "          }\n",
              "        }\n",
              "      }\n",
              "      const blob = new Blob(buffers, {type: 'application/binary'});\n",
              "      const a = document.createElement('a');\n",
              "      a.href = window.URL.createObjectURL(blob);\n",
              "      a.download = filename;\n",
              "      div.appendChild(a);\n",
              "      a.click();\n",
              "      div.remove();\n",
              "    }\n",
              "  "
            ],
            "text/plain": [
              "<IPython.core.display.Javascript object>"
            ]
          },
          "metadata": {}
        },
        {
          "output_type": "display_data",
          "data": {
            "application/javascript": [
              "download(\"download_25f9d9a0-9db2-496b-8551-a1ae9b3bc1b3\", \"data_FRED-SPPOPGROWIND.json\", 12872)"
            ],
            "text/plain": [
              "<IPython.core.display.Javascript object>"
            ]
          },
          "metadata": {}
        },
        {
          "output_type": "stream",
          "name": "stdout",
          "text": [
            "SPPOPGROWBRA\n",
            "https://api.stlouisfed.org/fred/series/observations?series_id=SPPOPGROWBRA&api_key=90de817d828417ca16a39bec1e292d08&file_type=json\n",
            "{'realtime_start': '2022-01-07', 'realtime_end': '2022-01-07', 'observation_start': '1600-01-01', 'observation_end': '9999-12-31', 'units': 'lin', 'output_type': 1, 'file_type': 'json', 'order_by': 'observation_date', 'sort_order': 'asc', 'count': 70, 'offset': 0, 'limit': 100000, 'observations': [{'realtime_start': '2022-01-07', 'realtime_end': '2022-01-07', 'date': '1951-01-01', 'value': '.'}, {'realtime_start': '2022-01-07', 'realtime_end': '2022-01-07', 'date': '1952-01-01', 'value': '.'}, {'realtime_start': '2022-01-07', 'realtime_end': '2022-01-07', 'date': '1953-01-01', 'value': '.'}, {'realtime_start': '2022-01-07', 'realtime_end': '2022-01-07', 'date': '1954-01-01', 'value': '.'}, {'realtime_start': '2022-01-07', 'realtime_end': '2022-01-07', 'date': '1955-01-01', 'value': '.'}, {'realtime_start': '2022-01-07', 'realtime_end': '2022-01-07', 'date': '1956-01-01', 'value': '.'}, {'realtime_start': '2022-01-07', 'realtime_end': '2022-01-07', 'date': '1957-01-01', 'value': '.'}, {'realtime_start': '2022-01-07', 'realtime_end': '2022-01-07', 'date': '1958-01-01', 'value': '.'}, {'realtime_start': '2022-01-07', 'realtime_end': '2022-01-07', 'date': '1959-01-01', 'value': '.'}, {'realtime_start': '2022-01-07', 'realtime_end': '2022-01-07', 'date': '1960-01-01', 'value': '.'}, {'realtime_start': '2022-01-07', 'realtime_end': '2022-01-07', 'date': '1961-01-01', 'value': '2.91111370045392'}, {'realtime_start': '2022-01-07', 'realtime_end': '2022-01-07', 'date': '1962-01-01', 'value': '2.92144928229548'}, {'realtime_start': '2022-01-07', 'realtime_end': '2022-01-07', 'date': '1963-01-01', 'value': '2.90877868324164'}, {'realtime_start': '2022-01-07', 'realtime_end': '2022-01-07', 'date': '1964-01-01', 'value': '2.86802049596373'}, {'realtime_start': '2022-01-07', 'realtime_end': '2022-01-07', 'date': '1965-01-01', 'value': '2.80848866043068'}, {'realtime_start': '2022-01-07', 'realtime_end': '2022-01-07', 'date': '1966-01-01', 'value': '2.74810990893136'}, {'realtime_start': '2022-01-07', 'realtime_end': '2022-01-07', 'date': '1967-01-01', 'value': '2.69317123492541'}, {'realtime_start': '2022-01-07', 'realtime_end': '2022-01-07', 'date': '1968-01-01', 'value': '2.63576054493739'}, {'realtime_start': '2022-01-07', 'realtime_end': '2022-01-07', 'date': '1969-01-01', 'value': '2.57697928416231'}, {'realtime_start': '2022-01-07', 'realtime_end': '2022-01-07', 'date': '1970-01-01', 'value': '2.51973259689862'}, {'realtime_start': '2022-01-07', 'realtime_end': '2022-01-07', 'date': '1971-01-01', 'value': '2.46088206594157'}, {'realtime_start': '2022-01-07', 'realtime_end': '2022-01-07', 'date': '1972-01-01', 'value': '2.40858112371131'}, {'realtime_start': '2022-01-07', 'realtime_end': '2022-01-07', 'date': '1973-01-01', 'value': '2.37505943317405'}, {'realtime_start': '2022-01-07', 'realtime_end': '2022-01-07', 'date': '1974-01-01', 'value': '2.36445952740343'}, {'realtime_start': '2022-01-07', 'realtime_end': '2022-01-07', 'date': '1975-01-01', 'value': '2.36891744853887'}, {'realtime_start': '2022-01-07', 'realtime_end': '2022-01-07', 'date': '1976-01-01', 'value': '2.37305987696124'}, {'realtime_start': '2022-01-07', 'realtime_end': '2022-01-07', 'date': '1977-01-01', 'value': '2.37117800852022'}, {'realtime_start': '2022-01-07', 'realtime_end': '2022-01-07', 'date': '1978-01-01', 'value': '2.36953021776687'}, {'realtime_start': '2022-01-07', 'realtime_end': '2022-01-07', 'date': '1979-01-01', 'value': '2.36685648546638'}, {'realtime_start': '2022-01-07', 'realtime_end': '2022-01-07', 'date': '1980-01-01', 'value': '2.36048298160519'}, {'realtime_start': '2022-01-07', 'realtime_end': '2022-01-07', 'date': '1981-01-01', 'value': '2.35519271179313'}, {'realtime_start': '2022-01-07', 'realtime_end': '2022-01-07', 'date': '1982-01-01', 'value': '2.3418599871497'}, {'realtime_start': '2022-01-07', 'realtime_end': '2022-01-07', 'date': '1983-01-01', 'value': '2.3056508784628'}, {'realtime_start': '2022-01-07', 'realtime_end': '2022-01-07', 'date': '1984-01-01', 'value': '2.24179825511662'}, {'realtime_start': '2022-01-07', 'realtime_end': '2022-01-07', 'date': '1985-01-01', 'value': '2.1599430128608'}, {'realtime_start': '2022-01-07', 'realtime_end': '2022-01-07', 'date': '1986-01-01', 'value': '2.07396482803476'}, {'realtime_start': '2022-01-07', 'realtime_end': '2022-01-07', 'date': '1987-01-01', 'value': '1.99482299617363'}, {'realtime_start': '2022-01-07', 'realtime_end': '2022-01-07', 'date': '1988-01-01', 'value': '1.92323343061383'}, {'realtime_start': '2022-01-07', 'realtime_end': '2022-01-07', 'date': '1989-01-01', 'value': '1.86295843597935'}, {'realtime_start': '2022-01-07', 'realtime_end': '2022-01-07', 'date': '1990-01-01', 'value': '1.81151883766468'}, {'realtime_start': '2022-01-07', 'realtime_end': '2022-01-07', 'date': '1991-01-01', 'value': '1.75941419381772'}, {'realtime_start': '2022-01-07', 'realtime_end': '2022-01-07', 'date': '1992-01-01', 'value': '1.70733923298647'}, {'realtime_start': '2022-01-07', 'realtime_end': '2022-01-07', 'date': '1993-01-01', 'value': '1.66486231216782'}, {'realtime_start': '2022-01-07', 'realtime_end': '2022-01-07', 'date': '1994-01-01', 'value': '1.6337888839804'}, {'realtime_start': '2022-01-07', 'realtime_end': '2022-01-07', 'date': '1995-01-01', 'value': '1.60971030654546'}, {'realtime_start': '2022-01-07', 'realtime_end': '2022-01-07', 'date': '1996-01-01', 'value': '1.58883830194468'}, {'realtime_start': '2022-01-07', 'realtime_end': '2022-01-07', 'date': '1997-01-01', 'value': '1.56373197369546'}, {'realtime_start': '2022-01-07', 'realtime_end': '2022-01-07', 'date': '1998-01-01', 'value': '1.52896188133332'}, {'realtime_start': '2022-01-07', 'realtime_end': '2022-01-07', 'date': '1999-01-01', 'value': '1.48110975211591'}, {'realtime_start': '2022-01-07', 'realtime_end': '2022-01-07', 'date': '2000-01-01', 'value': '1.42416744229362'}, {'realtime_start': '2022-01-07', 'realtime_end': '2022-01-07', 'date': '2001-01-01', 'value': '1.36695595542708'}, {'realtime_start': '2022-01-07', 'realtime_end': '2022-01-07', 'date': '2002-01-01', 'value': '1.31274754952678'}, {'realtime_start': '2022-01-07', 'realtime_end': '2022-01-07', 'date': '2003-01-01', 'value': '1.25737996705435'}, {'realtime_start': '2022-01-07', 'realtime_end': '2022-01-07', 'date': '2004-01-01', 'value': '1.20129414101631'}, {'realtime_start': '2022-01-07', 'realtime_end': '2022-01-07', 'date': '2005-01-01', 'value': '1.14588477164177'}, {'realtime_start': '2022-01-07', 'realtime_end': '2022-01-07', 'date': '2006-01-01', 'value': '1.09019257285986'}, {'realtime_start': '2022-01-07', 'realtime_end': '2022-01-07', 'date': '2007-01-01', 'value': '1.03786468320243'}, {'realtime_start': '2022-01-07', 'realtime_end': '2022-01-07', 'date': '2008-01-01', 'value': '0.994310571973971'}, {'realtime_start': '2022-01-07', 'realtime_end': '2022-01-07', 'date': '2009-01-01', 'value': '0.961946715342144'}, {'realtime_start': '2022-01-07', 'realtime_end': '2022-01-07', 'date': '2010-01-01', 'value': '0.937959306704135'}, {'realtime_start': '2022-01-07', 'realtime_end': '2022-01-07', 'date': '2011-01-01', 'value': '0.915965178459778'}, {'realtime_start': '2022-01-07', 'realtime_end': '2022-01-07', 'date': '2012-01-01', 'value': '0.893525506727112'}, {'realtime_start': '2022-01-07', 'realtime_end': '2022-01-07', 'date': '2013-01-01', 'value': '0.873605695817564'}, {'realtime_start': '2022-01-07', 'realtime_end': '2022-01-07', 'date': '2014-01-01', 'value': '0.855795964130977'}, {'realtime_start': '2022-01-07', 'realtime_end': '2022-01-07', 'date': '2015-01-01', 'value': '0.838838953278811'}, {'realtime_start': '2022-01-07', 'realtime_end': '2022-01-07', 'date': '2016-01-01', 'value': '0.823752152538353'}, {'realtime_start': '2022-01-07', 'realtime_end': '2022-01-07', 'date': '2017-01-01', 'value': '0.807145245445964'}, {'realtime_start': '2022-01-07', 'realtime_end': '2022-01-07', 'date': '2018-01-01', 'value': '0.783844259734468'}, {'realtime_start': '2022-01-07', 'realtime_end': '2022-01-07', 'date': '2019-01-01', 'value': '0.751550842096973'}, {'realtime_start': '2022-01-07', 'realtime_end': '2022-01-07', 'date': '2020-01-01', 'value': '0.712872791114979'}]}\n",
            "data_FRED-SPPOPGROWBRA.json\n"
          ]
        },
        {
          "output_type": "display_data",
          "data": {
            "application/javascript": [
              "\n",
              "    async function download(id, filename, size) {\n",
              "      if (!google.colab.kernel.accessAllowed) {\n",
              "        return;\n",
              "      }\n",
              "      const div = document.createElement('div');\n",
              "      const label = document.createElement('label');\n",
              "      label.textContent = `Downloading \"${filename}\": `;\n",
              "      div.appendChild(label);\n",
              "      const progress = document.createElement('progress');\n",
              "      progress.max = size;\n",
              "      div.appendChild(progress);\n",
              "      document.body.appendChild(div);\n",
              "\n",
              "      const buffers = [];\n",
              "      let downloaded = 0;\n",
              "\n",
              "      const channel = await google.colab.kernel.comms.open(id);\n",
              "      // Send a message to notify the kernel that we're ready.\n",
              "      channel.send({})\n",
              "\n",
              "      for await (const message of channel.messages) {\n",
              "        // Send a message to notify the kernel that we're ready.\n",
              "        channel.send({})\n",
              "        if (message.buffers) {\n",
              "          for (const buffer of message.buffers) {\n",
              "            buffers.push(buffer);\n",
              "            downloaded += buffer.byteLength;\n",
              "            progress.value = downloaded;\n",
              "          }\n",
              "        }\n",
              "      }\n",
              "      const blob = new Blob(buffers, {type: 'application/binary'});\n",
              "      const a = document.createElement('a');\n",
              "      a.href = window.URL.createObjectURL(blob);\n",
              "      a.download = filename;\n",
              "      div.appendChild(a);\n",
              "      a.click();\n",
              "      div.remove();\n",
              "    }\n",
              "  "
            ],
            "text/plain": [
              "<IPython.core.display.Javascript object>"
            ]
          },
          "metadata": {}
        },
        {
          "output_type": "display_data",
          "data": {
            "application/javascript": [
              "download(\"download_f128f6d3-4066-4dde-98e0-d8b5f30069c8\", \"data_FRED-SPPOPGROWBRA.json\", 12888)"
            ],
            "text/plain": [
              "<IPython.core.display.Javascript object>"
            ]
          },
          "metadata": {}
        },
        {
          "output_type": "stream",
          "name": "stdout",
          "text": [
            "SPPOPGROWCHN\n",
            "https://api.stlouisfed.org/fred/series/observations?series_id=SPPOPGROWCHN&api_key=90de817d828417ca16a39bec1e292d08&file_type=json\n",
            "{'realtime_start': '2022-01-07', 'realtime_end': '2022-01-07', 'observation_start': '1600-01-01', 'observation_end': '9999-12-31', 'units': 'lin', 'output_type': 1, 'file_type': 'json', 'order_by': 'observation_date', 'sort_order': 'asc', 'count': 70, 'offset': 0, 'limit': 100000, 'observations': [{'realtime_start': '2022-01-07', 'realtime_end': '2022-01-07', 'date': '1951-01-01', 'value': '.'}, {'realtime_start': '2022-01-07', 'realtime_end': '2022-01-07', 'date': '1952-01-01', 'value': '.'}, {'realtime_start': '2022-01-07', 'realtime_end': '2022-01-07', 'date': '1953-01-01', 'value': '.'}, {'realtime_start': '2022-01-07', 'realtime_end': '2022-01-07', 'date': '1954-01-01', 'value': '.'}, {'realtime_start': '2022-01-07', 'realtime_end': '2022-01-07', 'date': '1955-01-01', 'value': '.'}, {'realtime_start': '2022-01-07', 'realtime_end': '2022-01-07', 'date': '1956-01-01', 'value': '.'}, {'realtime_start': '2022-01-07', 'realtime_end': '2022-01-07', 'date': '1957-01-01', 'value': '.'}, {'realtime_start': '2022-01-07', 'realtime_end': '2022-01-07', 'date': '1958-01-01', 'value': '.'}, {'realtime_start': '2022-01-07', 'realtime_end': '2022-01-07', 'date': '1959-01-01', 'value': '.'}, {'realtime_start': '2022-01-07', 'realtime_end': '2022-01-07', 'date': '1960-01-01', 'value': '.'}, {'realtime_start': '2022-01-07', 'realtime_end': '2022-01-07', 'date': '1961-01-01', 'value': '-1.01552778731319'}, {'realtime_start': '2022-01-07', 'realtime_end': '2022-01-07', 'date': '1962-01-01', 'value': '0.820455548748518'}, {'realtime_start': '2022-01-07', 'realtime_end': '2022-01-07', 'date': '1963-01-01', 'value': '2.45764740395145'}, {'realtime_start': '2022-01-07', 'realtime_end': '2022-01-07', 'date': '1964-01-01', 'value': '2.32068298706855'}, {'realtime_start': '2022-01-07', 'realtime_end': '2022-01-07', 'date': '1965-01-01', 'value': '2.38136810251949'}, {'realtime_start': '2022-01-07', 'realtime_end': '2022-01-07', 'date': '1966-01-01', 'value': '2.78733183821693'}, {'realtime_start': '2022-01-07', 'realtime_end': '2022-01-07', 'date': '1967-01-01', 'value': '2.5706976197388'}, {'realtime_start': '2022-01-07', 'realtime_end': '2022-01-07', 'date': '1968-01-01', 'value': '2.61090262648529'}, {'realtime_start': '2022-01-07', 'realtime_end': '2022-01-07', 'date': '1969-01-01', 'value': '2.74000210569558'}, {'realtime_start': '2022-01-07', 'realtime_end': '2022-01-07', 'date': '1970-01-01', 'value': '2.76167556645304'}, {'realtime_start': '2022-01-07', 'realtime_end': '2022-01-07', 'date': '1971-01-01', 'value': '2.74691554961857'}, {'realtime_start': '2022-01-07', 'realtime_end': '2022-01-07', 'date': '1972-01-01', 'value': '2.45735692952286'}, {'realtime_start': '2022-01-07', 'realtime_end': '2022-01-07', 'date': '1973-01-01', 'value': '2.28339536396383'}, {'realtime_start': '2022-01-07', 'realtime_end': '2022-01-07', 'date': '1974-01-01', 'value': '2.06595501335632'}, {'realtime_start': '2022-01-07', 'realtime_end': '2022-01-07', 'date': '1975-01-01', 'value': '1.76639178162482'}, {'realtime_start': '2022-01-07', 'realtime_end': '2022-01-07', 'date': '1976-01-01', 'value': '1.54733797287665'}, {'realtime_start': '2022-01-07', 'realtime_end': '2022-01-07', 'date': '1977-01-01', 'value': '1.36277947570678'}, {'realtime_start': '2022-01-07', 'realtime_end': '2022-01-07', 'date': '1978-01-01', 'value': '1.33818233834084'}, {'realtime_start': '2022-01-07', 'realtime_end': '2022-01-07', 'date': '1979-01-01', 'value': '1.33392795351687'}, {'realtime_start': '2022-01-07', 'realtime_end': '2022-01-07', 'date': '1980-01-01', 'value': '1.25422105193987'}, {'realtime_start': '2022-01-07', 'realtime_end': '2022-01-07', 'date': '1981-01-01', 'value': '1.28095234429252'}, {'realtime_start': '2022-01-07', 'realtime_end': '2022-01-07', 'date': '1982-01-01', 'value': '1.47267476016581'}, {'realtime_start': '2022-01-07', 'realtime_end': '2022-01-07', 'date': '1983-01-01', 'value': '1.4449496950092'}, {'realtime_start': '2022-01-07', 'realtime_end': '2022-01-07', 'date': '1984-01-01', 'value': '1.31206876113779'}, {'realtime_start': '2022-01-07', 'realtime_end': '2022-01-07', 'date': '1985-01-01', 'value': '1.36169911825369'}, {'realtime_start': '2022-01-07', 'realtime_end': '2022-01-07', 'date': '1986-01-01', 'value': '1.48739892914903'}, {'realtime_start': '2022-01-07', 'realtime_end': '2022-01-07', 'date': '1987-01-01', 'value': '1.6036050865576'}, {'realtime_start': '2022-01-07', 'realtime_end': '2022-01-07', 'date': '1988-01-01', 'value': '1.61007108578698'}, {'realtime_start': '2022-01-07', 'realtime_end': '2022-01-07', 'date': '1989-01-01', 'value': '1.53316999599862'}, {'realtime_start': '2022-01-07', 'realtime_end': '2022-01-07', 'date': '1990-01-01', 'value': '1.46730321087928'}, {'realtime_start': '2022-01-07', 'realtime_end': '2022-01-07', 'date': '1991-01-01', 'value': '1.36443400840349'}, {'realtime_start': '2022-01-07', 'realtime_end': '2022-01-07', 'date': '1992-01-01', 'value': '1.2255362283362'}, {'realtime_start': '2022-01-07', 'realtime_end': '2022-01-07', 'date': '1993-01-01', 'value': '1.14961943083465'}, {'realtime_start': '2022-01-07', 'realtime_end': '2022-01-07', 'date': '1994-01-01', 'value': '1.13026063215591'}, {'realtime_start': '2022-01-07', 'realtime_end': '2022-01-07', 'date': '1995-01-01', 'value': '1.08650915088974'}, {'realtime_start': '2022-01-07', 'realtime_end': '2022-01-07', 'date': '1996-01-01', 'value': '1.04814151412165'}, {'realtime_start': '2022-01-07', 'realtime_end': '2022-01-07', 'date': '1997-01-01', 'value': '1.02345002419879'}, {'realtime_start': '2022-01-07', 'realtime_end': '2022-01-07', 'date': '1998-01-01', 'value': '0.959550406298151'}, {'realtime_start': '2022-01-07', 'realtime_end': '2022-01-07', 'date': '1999-01-01', 'value': '0.865851392993279'}, {'realtime_start': '2022-01-07', 'realtime_end': '2022-01-07', 'date': '2000-01-01', 'value': '0.787956592953992'}, {'realtime_start': '2022-01-07', 'realtime_end': '2022-01-07', 'date': '2001-01-01', 'value': '0.726380637838525'}, {'realtime_start': '2022-01-07', 'realtime_end': '2022-01-07', 'date': '2002-01-01', 'value': '0.669999567758626'}, {'realtime_start': '2022-01-07', 'realtime_end': '2022-01-07', 'date': '2003-01-01', 'value': '0.622860936133583'}, {'realtime_start': '2022-01-07', 'realtime_end': '2022-01-07', 'date': '2004-01-01', 'value': '0.593932815112141'}, {'realtime_start': '2022-01-07', 'realtime_end': '2022-01-07', 'date': '2005-01-01', 'value': '0.588124989556992'}, {'realtime_start': '2022-01-07', 'realtime_end': '2022-01-07', 'date': '2006-01-01', 'value': '0.558374367373002'}, {'realtime_start': '2022-01-07', 'realtime_end': '2022-01-07', 'date': '2007-01-01', 'value': '0.522271866392275'}, {'realtime_start': '2022-01-07', 'realtime_end': '2022-01-07', 'date': '2008-01-01', 'value': '0.51238693163744'}, {'realtime_start': '2022-01-07', 'realtime_end': '2022-01-07', 'date': '2009-01-01', 'value': '0.497381400884935'}, {'realtime_start': '2022-01-07', 'realtime_end': '2022-01-07', 'date': '2010-01-01', 'value': '0.482959688678361'}, {'realtime_start': '2022-01-07', 'realtime_end': '2022-01-07', 'date': '2011-01-01', 'value': '0.546457594880274'}, {'realtime_start': '2022-01-07', 'realtime_end': '2022-01-07', 'date': '2012-01-01', 'value': '0.678345458846803'}, {'realtime_start': '2022-01-07', 'realtime_end': '2022-01-07', 'date': '2013-01-01', 'value': '0.666072977690069'}, {'realtime_start': '2022-01-07', 'realtime_end': '2022-01-07', 'date': '2014-01-01', 'value': '0.630326389541893'}, {'realtime_start': '2022-01-07', 'realtime_end': '2022-01-07', 'date': '2015-01-01', 'value': '0.581456146657648'}, {'realtime_start': '2022-01-07', 'realtime_end': '2022-01-07', 'date': '2016-01-01', 'value': '0.573050906069647'}, {'realtime_start': '2022-01-07', 'realtime_end': '2022-01-07', 'date': '2017-01-01', 'value': '0.605245013482969'}, {'realtime_start': '2022-01-07', 'realtime_end': '2022-01-07', 'date': '2018-01-01', 'value': '0.467672053461959'}, {'realtime_start': '2022-01-07', 'realtime_end': '2022-01-07', 'date': '2019-01-01', 'value': '0.354740890170827'}, {'realtime_start': '2022-01-07', 'realtime_end': '2022-01-07', 'date': '2020-01-01', 'value': '0.225947587112011'}]}\n",
            "data_FRED-SPPOPGROWCHN.json\n"
          ]
        },
        {
          "output_type": "display_data",
          "data": {
            "application/javascript": [
              "\n",
              "    async function download(id, filename, size) {\n",
              "      if (!google.colab.kernel.accessAllowed) {\n",
              "        return;\n",
              "      }\n",
              "      const div = document.createElement('div');\n",
              "      const label = document.createElement('label');\n",
              "      label.textContent = `Downloading \"${filename}\": `;\n",
              "      div.appendChild(label);\n",
              "      const progress = document.createElement('progress');\n",
              "      progress.max = size;\n",
              "      div.appendChild(progress);\n",
              "      document.body.appendChild(div);\n",
              "\n",
              "      const buffers = [];\n",
              "      let downloaded = 0;\n",
              "\n",
              "      const channel = await google.colab.kernel.comms.open(id);\n",
              "      // Send a message to notify the kernel that we're ready.\n",
              "      channel.send({})\n",
              "\n",
              "      for await (const message of channel.messages) {\n",
              "        // Send a message to notify the kernel that we're ready.\n",
              "        channel.send({})\n",
              "        if (message.buffers) {\n",
              "          for (const buffer of message.buffers) {\n",
              "            buffers.push(buffer);\n",
              "            downloaded += buffer.byteLength;\n",
              "            progress.value = downloaded;\n",
              "          }\n",
              "        }\n",
              "      }\n",
              "      const blob = new Blob(buffers, {type: 'application/binary'});\n",
              "      const a = document.createElement('a');\n",
              "      a.href = window.URL.createObjectURL(blob);\n",
              "      a.download = filename;\n",
              "      div.appendChild(a);\n",
              "      a.click();\n",
              "      div.remove();\n",
              "    }\n",
              "  "
            ],
            "text/plain": [
              "<IPython.core.display.Javascript object>"
            ]
          },
          "metadata": {}
        },
        {
          "output_type": "display_data",
          "data": {
            "application/javascript": [
              "download(\"download_8adc9ea4-02e0-4eda-8eae-83b8abcac55a\", \"data_FRED-SPPOPGROWCHN.json\", 12899)"
            ],
            "text/plain": [
              "<IPython.core.display.Javascript object>"
            ]
          },
          "metadata": {}
        }
      ]
    },
    {
      "cell_type": "code",
      "metadata": {
        "id": "P_VF_qg2x6Ca"
      },
      "source": [
        "# /// Import tools that we will need:\n",
        "\n",
        "# // Opening web sites and web scraping: \n",
        "import requests\n",
        "\n",
        "# // OS. Sometimes need this for finding working directory:\n",
        "import os\n",
        "\n",
        "# // JSON. This helps us make JSON look prettier and easier to read\n",
        "import json\n",
        "\n",
        "# /// Files.  This is part of Collab - allows you to upload and download files\n",
        "from google.colab import files"
      ],
      "execution_count": 6,
      "outputs": []
    },
    {
      "cell_type": "code",
      "source": [
        ""
      ],
      "metadata": {
        "id": "jmu5jrHBZ20b"
      },
      "execution_count": null,
      "outputs": []
    }
  ]
}