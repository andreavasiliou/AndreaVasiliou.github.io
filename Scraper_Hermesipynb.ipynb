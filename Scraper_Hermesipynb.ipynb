{
  "nbformat": 4,
  "nbformat_minor": 0,
  "metadata": {
    "colab": {
      "name": "Scraper-Hermesipynb",
      "provenance": [],
      "collapsed_sections": [],
      "authorship_tag": "ABX9TyNCA1JmPlYlY1zAGsS2iQ2X",
      "include_colab_link": true
    },
    "kernelspec": {
      "name": "python3",
      "display_name": "Python 3"
    },
    "language_info": {
      "name": "python"
    }
  },
  "cells": [
    {
      "cell_type": "markdown",
      "metadata": {
        "id": "view-in-github",
        "colab_type": "text"
      },
      "source": [
        "<a href=\"https://colab.research.google.com/github/andreavasiliou/AndreaVasiliou.github.io/blob/main/Scraper_Hermesipynb.ipynb\" target=\"_parent\"><img src=\"https://colab.research.google.com/assets/colab-badge.svg\" alt=\"Open In Colab\"/></a>"
      ]
    },
    {
      "cell_type": "code",
      "metadata": {
        "id": "qOKZJAQ2mSjY"
      },
      "source": [
        "import requests, pandas as pd\n"
      ],
      "execution_count": null,
      "outputs": []
    },
    {
      "cell_type": "code",
      "metadata": {
        "id": "Tk-ZqBYAmZny"
      },
      "source": [
        "tables=pd.read_html('https://baghunter.com/blogs/news/investment-value-of-hermes')"
      ],
      "execution_count": null,
      "outputs": []
    },
    {
      "cell_type": "code",
      "metadata": {
        "id": "stIoor-NmoFR"
      },
      "source": [
        "tables[0]"
      ],
      "execution_count": null,
      "outputs": []
    },
    {
      "cell_type": "code",
      "metadata": {
        "id": "l_BUIMoem3Wn"
      },
      "source": [
        "df=tables[0]"
      ],
      "execution_count": null,
      "outputs": []
    },
    {
      "cell_type": "code",
      "metadata": {
        "id": "nrhJA_Yvm-po"
      },
      "source": [
        "df.to_csv('hw_csv.csv')"
      ],
      "execution_count": null,
      "outputs": []
    }
  ]
}