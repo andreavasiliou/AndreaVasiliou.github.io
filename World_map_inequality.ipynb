{
  "cells": [
    {
      "cell_type": "markdown",
      "metadata": {
        "id": "view-in-github",
        "colab_type": "text"
      },
      "source": [
        "<a href=\"https://colab.research.google.com/github/andreavasiliou/AndreaVasiliou.github.io/blob/main/World_map_inequality.ipynb\" target=\"_parent\"><img src=\"https://colab.research.google.com/assets/colab-badge.svg\" alt=\"Open In Colab\"/></a>"
      ]
    },
    {
      "cell_type": "code",
      "execution_count": null,
      "metadata": {
        "id": "bKXGXaPEhUcY"
      },
      "outputs": [],
      "source": [
        "import requests, json, pandas as pd, numpy as np"
      ]
    },
    {
      "cell_type": "code",
      "execution_count": null,
      "metadata": {
        "id": "mAFsrlXnhUcg"
      },
      "outputs": [],
      "source": [
        "topo=requests.get('https://raw.githubusercontent.com/deldersveld/topojson/master/world-countries.json').json()"
      ]
    },
    {
      "cell_type": "code",
      "execution_count": null,
      "metadata": {
        "colab": {
          "base_uri": "https://localhost:8080/"
        },
        "id": "hgmF0oTkWXoO",
        "outputId": "4ad7c6a2-8982-4958-8c48-5ccc5653ec92"
      },
      "outputs": [
        {
          "name": "stdout",
          "output_type": "stream",
          "text": [
            "Afghanistan\n",
            "Angola\n",
            "Albania\n",
            "United Arab Emirates\n",
            "Argentina\n",
            "Armenia\n",
            "Antarctica\n",
            "French Southern and Antarctic Lands\n",
            "Australia\n",
            "Austria\n",
            "Azerbaijan\n",
            "Burundi\n",
            "Belgium\n",
            "Benin\n",
            "Burkina Faso\n",
            "Bangladesh\n",
            "Bulgaria\n",
            "The Bahamas\n",
            "Bosnia and Herzegovina\n",
            "Belarus\n",
            "Belize\n",
            "Bermuda\n",
            "Bolivia\n",
            "Brazil\n",
            "Brunei\n",
            "Bhutan\n",
            "Botswana\n",
            "Central African Republic\n",
            "Canada\n",
            "Switzerland\n",
            "Chile\n",
            "China\n",
            "Ivory Coast\n",
            "Cameroon\n",
            "Democratic Republic of the Congo\n",
            "Republic of the Congo\n",
            "Colombia\n",
            "Costa Rica\n",
            "Cuba\n",
            "Northern Cyprus\n",
            "Cyprus\n",
            "Czech Republic\n",
            "Germany\n",
            "Djibouti\n",
            "Denmark\n",
            "Dominican Republic\n",
            "Algeria\n",
            "Ecuador\n",
            "Egypt\n",
            "Eritrea\n",
            "Spain\n",
            "Estonia\n",
            "Ethiopia\n",
            "Finland\n",
            "Fiji\n",
            "Falkland Islands\n",
            "France\n",
            "Gabon\n",
            "United Kingdom\n",
            "Georgia\n",
            "Ghana\n",
            "Guinea\n",
            "Gambia\n",
            "Guinea Bissau\n",
            "Equatorial Guinea\n",
            "Greece\n",
            "Greenland\n",
            "Guatemala\n",
            "French Guiana\n",
            "Guyana\n",
            "Honduras\n",
            "Croatia\n",
            "Haiti\n",
            "Hungary\n",
            "Indonesia\n",
            "India\n",
            "Ireland\n",
            "Iran\n",
            "Iraq\n",
            "Iceland\n",
            "Israel\n",
            "Italy\n",
            "Jamaica\n",
            "Jordan\n",
            "Japan\n",
            "Kazakhstan\n",
            "Kenya\n",
            "Kyrgyzstan\n",
            "Cambodia\n",
            "South Korea\n",
            "Kosovo\n",
            "Kuwait\n",
            "Laos\n",
            "Lebanon\n",
            "Liberia\n",
            "Libya\n",
            "Sri Lanka\n",
            "Lesotho\n",
            "Lithuania\n",
            "Luxembourg\n",
            "Latvia\n",
            "Morocco\n",
            "Moldova\n",
            "Madagascar\n",
            "Mexico\n",
            "Macedonia\n",
            "Mali\n",
            "Malta\n",
            "Myanmar\n",
            "Montenegro\n",
            "Mongolia\n",
            "Mozambique\n",
            "Mauritania\n",
            "Malawi\n",
            "Malaysia\n",
            "Namibia\n",
            "New Caledonia\n",
            "Niger\n",
            "Nigeria\n",
            "Nicaragua\n",
            "Netherlands\n",
            "Norway\n",
            "Nepal\n",
            "New Zealand\n",
            "Oman\n",
            "Pakistan\n",
            "Panama\n",
            "Peru\n",
            "Philippines\n",
            "Papua New Guinea\n",
            "Poland\n",
            "Puerto Rico\n",
            "North Korea\n",
            "Portugal\n",
            "Paraguay\n",
            "Qatar\n",
            "Romania\n",
            "Russia\n",
            "Rwanda\n",
            "Western Sahara\n",
            "Saudi Arabia\n",
            "Sudan\n",
            "South Sudan\n",
            "Senegal\n",
            "Solomon Islands\n",
            "Sierra Leone\n",
            "El Salvador\n",
            "Somaliland\n",
            "Somalia\n",
            "Republic of Serbia\n",
            "Suriname\n",
            "Slovakia\n",
            "Slovenia\n",
            "Sweden\n",
            "Swaziland\n",
            "Syria\n",
            "Chad\n",
            "Togo\n",
            "Thailand\n",
            "Tajikistan\n",
            "Turkmenistan\n",
            "East Timor\n",
            "Trinidad and Tobago\n",
            "Tunisia\n",
            "Turkey\n",
            "Taiwan\n",
            "United Republic of Tanzania\n",
            "Uganda\n",
            "Ukraine\n",
            "Uruguay\n",
            "United States of America\n",
            "Uzbekistan\n",
            "Venezuela\n",
            "Vietnam\n",
            "Vanuatu\n",
            "West Bank\n",
            "Yemen\n",
            "South Africa\n",
            "Zambia\n",
            "Zimbabwe\n"
          ]
        }
      ],
      "source": [
        "for i in topo['objects']['countries1']['geometries']:\n",
        "  print(i['properties']['name'])"
      ]
    },
    {
      "cell_type": "markdown",
      "metadata": {
        "id": "5-RhoMzYhUci"
      },
      "source": [
        "You need to bring in your data, match it to the country names."
      ]
    },
    {
      "cell_type": "code",
      "execution_count": null,
      "metadata": {
        "id": "VfLCtPknhUcl"
      },
      "outputs": [],
      "source": [
        "import pandas as pd\n",
        "data=pd.read_csv('Data-Gini coefficient World Bank.csv').set_index('Country')"
      ]
    },
    {
      "cell_type": "markdown",
      "metadata": {
        "id": "zBShtycGWnrf"
      },
      "source": [
        "Now we extend the topojson properties - in your final product, you need to rename countries until you have a perfect match.\n"
      ]
    },
    {
      "cell_type": "code",
      "execution_count": null,
      "metadata": {
        "id": "w0Zgobl3hUcm",
        "outputId": "7dd36e63-897d-4b45-dd07-e1fa8f320173"
      },
      "outputs": [
        {
          "name": "stdout",
          "output_type": "stream",
          "text": [
            "Angola found! Extending data..\n",
            "Albania found! Extending data..\n",
            "Argentina found! Extending data..\n",
            "Armenia found! Extending data..\n",
            "Australia found! Extending data..\n",
            "Austria found! Extending data..\n",
            "Azerbaijan found! Extending data..\n",
            "Burundi found! Extending data..\n",
            "Belgium found! Extending data..\n",
            "Benin found! Extending data..\n",
            "Burkina Faso found! Extending data..\n",
            "Bangladesh found! Extending data..\n",
            "Bulgaria found! Extending data..\n",
            "Bosnia and Herzegovina found! Extending data..\n",
            "Belarus found! Extending data..\n",
            "Belize found! Extending data..\n",
            "Bolivia found! Extending data..\n",
            "Brazil found! Extending data..\n",
            "Bhutan found! Extending data..\n",
            "Botswana found! Extending data..\n",
            "Central African Republic found! Extending data..\n",
            "Canada found! Extending data..\n",
            "Switzerland found! Extending data..\n",
            "Chile found! Extending data..\n",
            "China found! Extending data..\n",
            "Cameroon found! Extending data..\n",
            "Republic of the Congo found! Extending data..\n",
            "Colombia found! Extending data..\n",
            "Costa Rica found! Extending data..\n",
            "Cyprus found! Extending data..\n",
            "Czech Republic found! Extending data..\n",
            "Germany found! Extending data..\n",
            "Djibouti found! Extending data..\n",
            "Denmark found! Extending data..\n",
            "Dominican Republic found! Extending data..\n",
            "Algeria found! Extending data..\n",
            "Ecuador found! Extending data..\n",
            "Egypt found! Extending data..\n",
            "Spain found! Extending data..\n",
            "Estonia found! Extending data..\n",
            "Ethiopia found! Extending data..\n",
            "Finland found! Extending data..\n",
            "Fiji found! Extending data..\n",
            "France found! Extending data..\n",
            "Gabon found! Extending data..\n",
            "United Kingdom found! Extending data..\n",
            "Georgia found! Extending data..\n",
            "Ghana found! Extending data..\n",
            "Guinea found! Extending data..\n",
            "Guinea Bissau found! Extending data..\n",
            "Greece found! Extending data..\n",
            "Guatemala found! Extending data..\n",
            "Guyana found! Extending data..\n",
            "Honduras found! Extending data..\n",
            "Croatia found! Extending data..\n",
            "Haiti found! Extending data..\n",
            "Hungary found! Extending data..\n",
            "Indonesia found! Extending data..\n",
            "India found! Extending data..\n",
            "Ireland found! Extending data..\n",
            "Iran found! Extending data..\n",
            "Iraq found! Extending data..\n",
            "Iceland found! Extending data..\n",
            "Israel found! Extending data..\n",
            "Italy found! Extending data..\n",
            "Jamaica found! Extending data..\n",
            "Jordan found! Extending data..\n",
            "Japan found! Extending data..\n",
            "Kazakhstan found! Extending data..\n",
            "Kenya found! Extending data..\n",
            "Lebanon found! Extending data..\n",
            "Liberia found! Extending data..\n",
            "Sri Lanka found! Extending data..\n",
            "Lesotho found! Extending data..\n",
            "Lithuania found! Extending data..\n",
            "Luxembourg found! Extending data..\n",
            "Latvia found! Extending data..\n",
            "Morocco found! Extending data..\n",
            "Moldova found! Extending data..\n",
            "Madagascar found! Extending data..\n",
            "Mexico found! Extending data..\n",
            "Mali found! Extending data..\n",
            "Malta found! Extending data..\n",
            "Myanmar found! Extending data..\n",
            "Montenegro found! Extending data..\n",
            "Mongolia found! Extending data..\n",
            "Mozambique found! Extending data..\n",
            "Mauritania found! Extending data..\n",
            "Malawi found! Extending data..\n",
            "Malaysia found! Extending data..\n",
            "Namibia found! Extending data..\n",
            "Niger found! Extending data..\n",
            "Nigeria found! Extending data..\n",
            "Nicaragua found! Extending data..\n",
            "Netherlands found! Extending data..\n",
            "Norway found! Extending data..\n",
            "Nepal found! Extending data..\n",
            "Pakistan found! Extending data..\n",
            "Panama found! Extending data..\n",
            "Peru found! Extending data..\n",
            "Philippines found! Extending data..\n",
            "Papua New Guinea found! Extending data..\n",
            "Poland found! Extending data..\n",
            "Portugal found! Extending data..\n",
            "Paraguay found! Extending data..\n",
            "Romania found! Extending data..\n",
            "Russia found! Extending data..\n",
            "Rwanda found! Extending data..\n",
            "Sudan found! Extending data..\n",
            "Senegal found! Extending data..\n",
            "Solomon Islands found! Extending data..\n",
            "Sierra Leone found! Extending data..\n",
            "El Salvador found! Extending data..\n",
            "Suriname found! Extending data..\n",
            "Slovenia found! Extending data..\n",
            "Sweden found! Extending data..\n",
            "Chad found! Extending data..\n",
            "Togo found! Extending data..\n",
            "Thailand found! Extending data..\n",
            "Tajikistan found! Extending data..\n",
            "Turkmenistan found! Extending data..\n",
            "Trinidad and Tobago found! Extending data..\n",
            "Tunisia found! Extending data..\n",
            "Turkey found! Extending data..\n",
            "Uganda found! Extending data..\n",
            "Ukraine found! Extending data..\n",
            "Uruguay found! Extending data..\n",
            "United States of America found! Extending data..\n",
            "Uzbekistan found! Extending data..\n",
            "Venezuela found! Extending data..\n",
            "Vietnam found! Extending data..\n",
            "Vanuatu found! Extending data..\n",
            "Yemen found! Extending data..\n",
            "South Africa found! Extending data..\n",
            "Zambia found! Extending data..\n",
            "Zimbabwe found! Extending data..\n"
          ]
        }
      ],
      "source": [
        "for i in topo['objects']['countries1']['geometries']:\n",
        "  country=i['properties']['name']\n",
        "  if country in data.index:\n",
        "    print(country,'found! Extending data..')\n",
        "    i['properties']['Gini_Coefficient']=data.loc[country]['Gini coefficient']"
      ]
    },
    {
      "cell_type": "code",
      "execution_count": null,
      "metadata": {
        "id": "Ido9NjWlhUco",
        "outputId": "70d8af1b-291f-45e3-c6bf-8d87127cc4bb"
      },
      "outputs": [
        {
          "data": {
            "text/plain": [
              "{'name': 'United Arab Emirates', 'Alpha-2': 'AE'}"
            ]
          },
          "execution_count": 75,
          "metadata": {},
          "output_type": "execute_result"
        }
      ],
      "source": [
        "topo['objects']['countries1']['geometries'][3]['properties']"
      ]
    },
    {
      "cell_type": "markdown",
      "metadata": {
        "id": "XHVqL5q_hUcq"
      },
      "source": [
        "Done! Export the updated json file"
      ]
    },
    {
      "cell_type": "code",
      "execution_count": null,
      "metadata": {
        "id": "J0Rey_x3hUcr",
        "outputId": "b90e6a0f-a2b6-42cc-9da9-059ae74759f0"
      },
      "outputs": [
        {
          "data": {
            "text/plain": [
              "140239"
            ]
          },
          "execution_count": 76,
          "metadata": {},
          "output_type": "execute_result"
        }
      ],
      "source": [
        "import json\n",
        "open('topojson_export.json','w').write(json.dumps(topo))"
      ]
    }
  ],
  "metadata": {
    "kernelspec": {
      "display_name": "Python 3",
      "language": "python",
      "name": "python3"
    },
    "language_info": {
      "codemirror_mode": {
        "name": "ipython",
        "version": 3
      },
      "file_extension": ".py",
      "mimetype": "text/x-python",
      "name": "python",
      "nbconvert_exporter": "python",
      "pygments_lexer": "ipython3",
      "version": "3.8.5"
    },
    "colab": {
      "name": "World map-inequality.ipynb",
      "provenance": [],
      "include_colab_link": true
    }
  },
  "nbformat": 4,
  "nbformat_minor": 0
}